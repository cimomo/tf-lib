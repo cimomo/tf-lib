{
  "nbformat": 4,
  "nbformat_minor": 0,
  "metadata": {
    "colab": {
      "name": "Untitled0.ipynb",
      "version": "0.3.2",
      "provenance": []
    },
    "kernelspec": {
      "name": "python3",
      "display_name": "Python 3"
    }
  },
  "cells": [
    {
      "cell_type": "code",
      "metadata": {
        "id": "DA0pj_-8JoGP",
        "colab_type": "code",
        "colab": {}
      },
      "source": [
        "import tensorflow as tf\n",
        "import numpy as np\n",
        "from tensorflow import keras\n",
        "\n",
        "xs = np.array([1.0, 2.0, 3.0, 4.0, 5.0, 6.0])\n",
        "ys = np.array([1.0, 1.5, 2.0, 2.5, 3.0, 3.5])\n",
        "\n",
        "model = keras.Sequential([keras.layers.Dense(units=1, input_shape=[1])])\n",
        "model.compile(optimizer='sgd', loss='mean_squared_error')\n",
        "model.fit(xs, ys, epochs=500)\n",
        "\n",
        "print(model.predict([7.0]))\n"
      ],
      "execution_count": 0,
      "outputs": []
    }
  ]
}